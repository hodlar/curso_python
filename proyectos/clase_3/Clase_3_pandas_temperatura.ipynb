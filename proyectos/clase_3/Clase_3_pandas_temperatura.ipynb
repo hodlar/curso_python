{
 "cells": [
  {
   "cell_type": "code",
   "execution_count": null,
   "metadata": {},
   "outputs": [],
   "source": [
    "import pandas as pd"
   ]
  },
  {
   "cell_type": "code",
   "execution_count": null,
   "metadata": {},
   "outputs": [],
   "source": [
    "# Cargamos datos de CSV y asignamos nombres a las columnas\n",
    "# Se le asigna la columna date como index y se convierte a un tipo de dato de fecha (parse_dates) junto a la columna modified\n",
    "data = pd.read_csv('csv/arduino_logs.csv', names=['id', 'date', 'modified',\n",
    "                                               'calentador', 'ventiladores',\n",
    "                                               'temperatura', 'humedad',\n",
    "                                               'humedad_externa', 'temperatura_externa',\n",
    "                                               'luz', 'temperatura_secundaria',\n",
    "                                               'humedad_secundaria'\n",
    "                                              ], index_col=1,\n",
    "                  parse_dates=['date', 'modified'])\n",
    "\n",
    "data.head()"
   ]
  },
  {
   "cell_type": "code",
   "execution_count": null,
   "metadata": {},
   "outputs": [],
   "source": [
    "%matplotlib inline\n",
    "# Creamos una lista de las columnas de temperatura \n",
    "temperaturas = ['temperatura', 'temperatura_externa', 'temperatura_secundaria']\n",
    "# Creamos un plot de temperaturas\n",
    "data[temperaturas].plot()"
   ]
  },
  {
   "cell_type": "code",
   "execution_count": null,
   "metadata": {},
   "outputs": [],
   "source": [
    "# Creamos una lista de registros de humedad\n",
    "humedad = ['humedad', 'humedad_externa', 'humedad_secundaria']\n",
    "# Hacemos un plot de los registros de humedad\n",
    "data[humedad].plot()"
   ]
  },
  {
   "cell_type": "code",
   "execution_count": null,
   "metadata": {},
   "outputs": [],
   "source": [
    "# Juntamos las listas de humedad y temperatura y hacemos un plot\n",
    "data[humedad+temperaturas].plot()"
   ]
  },
  {
   "cell_type": "code",
   "execution_count": null,
   "metadata": {},
   "outputs": [],
   "source": [
    "data.index = pd.to_datetime(data.index)\n",
    "new_data = data.groupby([data.index.year, data.index.month, data.index.day])\n",
    "\n",
    "new_data[humedad+temperaturas].std().plot()\n",
    "new_data[humedad+temperaturas].mean().plot()\n",
    "\n",
    "new_data[humedad+temperaturas].median().plot()\n"
   ]
  },
  {
   "cell_type": "markdown",
   "metadata": {},
   "source": [
    "# Ejercicio 1"
   ]
  },
  {
   "cell_type": "code",
   "execution_count": null,
   "metadata": {},
   "outputs": [],
   "source": [
    "\"\"\"Obtener el valor máximo de la columna luz\"\"\""
   ]
  },
  {
   "cell_type": "code",
   "execution_count": null,
   "metadata": {},
   "outputs": [],
   "source": [
    "\"\"\"Modificar la columna luz creando un porcentaje de su valor original (luz/valor maximo * 100)\"\"\"\n",
    "data['luz'] = # calcular porcentaje"
   ]
  },
  {
   "cell_type": "code",
   "execution_count": null,
   "metadata": {},
   "outputs": [],
   "source": [
    "\"\"\"Hacer un plot de la columna luz\"\"\""
   ]
  },
  {
   "cell_type": "code",
   "execution_count": null,
   "metadata": {},
   "outputs": [],
   "source": [
    "\"\"\"Crear un plot con las columnas humedad, temperatura y luz\"\"\""
   ]
  },
  {
   "cell_type": "code",
   "execution_count": null,
   "metadata": {},
   "outputs": [],
   "source": [
    "\"\"\"Hacer un plot con las columnas humedad, temperatura y luz, solo de los dias mayores al 10 de marzo\"\"\""
   ]
  },
  {
   "cell_type": "markdown",
   "metadata": {},
   "source": [
    "# Ejercicio 2"
   ]
  },
  {
   "cell_type": "code",
   "execution_count": null,
   "metadata": {},
   "outputs": [],
   "source": [
    "\"\"\"\n",
    "Recrear los mismos plots leyendo del archivo de base de datos 'databases/temperaturas.db'\n",
    "\n",
    "\"\"\"\n",
    "import sqlite3\n",
    "conexion = sqlite3.connect('databases/temperaturas.db')\n",
    "\n",
    "data_sql = pd.read_sql(\"SELECT * FROM temperaturas;\", conexion, index_col='date', parse_dates=['date', 'modified'])\n"
   ]
  },
  {
   "cell_type": "code",
   "execution_count": null,
   "metadata": {},
   "outputs": [],
   "source": [
    "\"\"\"\n",
    "Al hacer un plot de los datos, es posible que no muestre las columnas que especificamos\n",
    "Para conocer la razón, podemos comparar los dtypes de los objetos de datos\n",
    "\"\"\"\n",
    "%matplotlib inline\n",
    "# Creamos una lista de las columnas de temperatura \n",
    "temperaturas = ['temperatura', 'temperatura_externa', 'temperatura_secundaria']\n",
    "# Creamos un plot de temperaturas\n",
    "data_sql[temperaturas].plot()"
   ]
  },
  {
   "cell_type": "code",
   "execution_count": null,
   "metadata": {},
   "outputs": [],
   "source": [
    "\"\"\"Dtypes de los objetos de datos\"\"\"\n",
    "print(data.dtypes)\n",
    "print(data_sql.dtypes)"
   ]
  },
  {
   "cell_type": "code",
   "execution_count": null,
   "metadata": {},
   "outputs": [],
   "source": [
    "\"\"\"Convertir las columnas tipo object a un valor numérico al aplicar la funcion pd.to_numeric a dichas columnas\"\"\"\n",
    "columnas_a_numerico = ['temperatura', 'humedad', 'temperatura_externa', 'humedad_externa'] # llenar\n",
    "data_sql[columnas_a_numerico] = data_sql[columnas_a_numerico].apply(pd.to_numeric, errors='coerce', axis=1)"
   ]
  },
  {
   "cell_type": "code",
   "execution_count": null,
   "metadata": {},
   "outputs": [],
   "source": [
    "\"\"\"Volvemos a comparar los dtypes\"\"\"\n",
    "print(data.dtypes)\n",
    "print(data_sql.dtypes)"
   ]
  },
  {
   "cell_type": "code",
   "execution_count": null,
   "metadata": {},
   "outputs": [],
   "source": [
    "\"\"\"Continuamos con los plots originales\"\"\""
   ]
  }
 ],
 "metadata": {
  "kernelspec": {
   "display_name": "Python 3",
   "language": "python",
   "name": "python3"
  },
  "language_info": {
   "codemirror_mode": {
    "name": "ipython",
    "version": 3
   },
   "file_extension": ".py",
   "mimetype": "text/x-python",
   "name": "python",
   "nbconvert_exporter": "python",
   "pygments_lexer": "ipython3",
   "version": "3.7.1"
  }
 },
 "nbformat": 4,
 "nbformat_minor": 2
}
