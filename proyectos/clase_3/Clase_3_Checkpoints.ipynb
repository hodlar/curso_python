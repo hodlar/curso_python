{
 "cells": [
  {
   "cell_type": "code",
   "execution_count": 1,
   "metadata": {},
   "outputs": [],
   "source": [
    "import matplotlib.pyplot as plt\n",
    "import random\n",
    "\n",
    "\n",
    "def darPaso():\n",
    "    \"\"\"Selecciona al azar una direccion para moverse\"\"\"\n",
    "    direcciones = [(0,1), (0,-1), (1,0), (-1,0)]\n",
    "    return random.choice(direcciones)\n",
    "\n",
    "\n",
    "def llenarMapa(cantidad=1000):\n",
    "    \"\"\"Comenzando en la posicion (0,0), da la cantidad de pasos indicada\"\"\"\n",
    "    pasoX = [0]\n",
    "    pasoY = [0]\n",
    "    \n",
    "    for i in range(cantidad):\n",
    "        # Por cada paso, ejecutamos la funcion darPaso para obtener la direccion a la que nos moveremos\n",
    "        x, y = darPaso()\n",
    "        # Asignamos el valor del ultimo paso mas el nuevo a una variable\n",
    "        nX = pasoX[i]+x\n",
    "        nY = pasoY[i]+y\n",
    "        # Anexamos el nuevo valor a la lista de pasos dados\n",
    "        pasoX.append(nX)\n",
    "        pasoY.append(nY)\n",
    "    plt.plot(pasoX, pasoY)\n",
    "#     plt.show()\n",
    "if __name__ == \"__main__\":\n",
    "    llenarMapa()\n"
   ]
  },
  {
   "cell_type": "code",
   "execution_count": 2,
   "metadata": {},
   "outputs": [
    {
     "data": {
      "image/png": "[encoded data removed]",
      "text/plain": [
       "<Figure size 432x288 with 1 Axes>"
      ]
     },
     "metadata": {
      "needs_background": "light"
     },
     "output_type": "display_data"
    }
   ],
   "source": [
    "%matplotlib inline\n",
    "for _ in range(1):\n",
    "    llenarMapa(1000)\n"
   ]
  }
 ],
 "metadata": {
  "kernelspec": {
   "display_name": "Python 3",
   "language": "python",
   "name": "python3"
  },
  "language_info": {
   "codemirror_mode": {
    "name": "ipython",
    "version": 3
   },
   "file_extension": ".py",
   "mimetype": "text/x-python",
   "name": "python",
   "nbconvert_exporter": "python",
   "pygments_lexer": "ipython3",
   "version": "3.7.1"
  }
 },
 "nbformat": 4,
 "nbformat_minor": 2
}
