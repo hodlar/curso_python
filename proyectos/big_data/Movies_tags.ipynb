{
 "cells": [
  {
   "cell_type": "code",
   "execution_count": 1,
   "metadata": {},
   "outputs": [],
   "source": [
    "import pandas as pd\n",
    "import numpy as np\n",
    "import random"
   ]
  },
  {
   "cell_type": "code",
   "execution_count": 2,
   "metadata": {},
   "outputs": [],
   "source": [
    "# Leo la tabla de películas\n",
    "movies = pd.read_csv('data/movies/movies.csv')"
   ]
  },
  {
   "cell_type": "code",
   "execution_count": 3,
   "metadata": {},
   "outputs": [],
   "source": [
    "# Leo cuántos tags diferentes tengo\n",
    "tags = []\n",
    "for indx in movies.index:\n",
    "    genres = movies.at[indx, 'genres']\n",
    "    genres_list = genres.split('|')\n",
    "    tags.extend(genres_list)\n",
    "    tags = list(set(tags))"
   ]
  },
  {
   "cell_type": "code",
   "execution_count": 4,
   "metadata": {},
   "outputs": [
    {
     "name": "stdout",
     "output_type": "stream",
     "text": [
      "All possible tags are: Animation, Mystery, Action, Documentary, Fantasy, Adventure, Crime, Western, Drama, (no genres listed), Romance, Children, Sci-Fi, Comedy, Musical, War, Horror, Film-Noir, Thriller, IMAX\n"
     ]
    }
   ],
   "source": [
    "print (f'All possible tags are: {\", \".join(tags)}')"
   ]
  },
  {
   "cell_type": "code",
   "execution_count": 5,
   "metadata": {},
   "outputs": [],
   "source": [
    "# Creo una tabla con (0,1) para cada película/categoría\n",
    "tagged_data = []\n",
    "for indx in movies.index:\n",
    "    genres = movies.at[indx, 'genres']\n",
    "    genres_list = genres.split('|')\n",
    "    movie_tags_list = [1 if t in genres_list else 0 for t in tags]\n",
    "    tagged_data.append(movie_tags_list)"
   ]
  },
  {
   "cell_type": "code",
   "execution_count": 6,
   "metadata": {},
   "outputs": [],
   "source": [
    "# Ahora, guardo esa información de tags en un DataFrame de pandas\n",
    "data = pd.DataFrame(tagged_data, columns=tags)"
   ]
  },
  {
   "cell_type": "code",
   "execution_count": 7,
   "metadata": {},
   "outputs": [
    {
     "data": {
      "text/html": [
       "<div>\n",
       "<style scoped>\n",
       "    .dataframe tbody tr th:only-of-type {\n",
       "        vertical-align: middle;\n",
       "    }\n",
       "\n",
       "    .dataframe tbody tr th {\n",
       "        vertical-align: top;\n",
       "    }\n",
       "\n",
       "    .dataframe thead th {\n",
       "        text-align: right;\n",
       "    }\n",
       "</style>\n",
       "<table border=\"1\" class=\"dataframe\">\n",
       "  <thead>\n",
       "    <tr style=\"text-align: right;\">\n",
       "      <th></th>\n",
       "      <th>Animation</th>\n",
       "      <th>Mystery</th>\n",
       "      <th>Action</th>\n",
       "      <th>Documentary</th>\n",
       "      <th>Fantasy</th>\n",
       "      <th>Adventure</th>\n",
       "      <th>Crime</th>\n",
       "      <th>Western</th>\n",
       "      <th>Drama</th>\n",
       "      <th>(no genres listed)</th>\n",
       "      <th>Romance</th>\n",
       "      <th>Children</th>\n",
       "      <th>Sci-Fi</th>\n",
       "      <th>Comedy</th>\n",
       "      <th>Musical</th>\n",
       "      <th>War</th>\n",
       "      <th>Horror</th>\n",
       "      <th>Film-Noir</th>\n",
       "      <th>Thriller</th>\n",
       "      <th>IMAX</th>\n",
       "    </tr>\n",
       "  </thead>\n",
       "  <tbody>\n",
       "    <tr>\n",
       "      <th>0</th>\n",
       "      <td>1</td>\n",
       "      <td>0</td>\n",
       "      <td>0</td>\n",
       "      <td>0</td>\n",
       "      <td>1</td>\n",
       "      <td>1</td>\n",
       "      <td>0</td>\n",
       "      <td>0</td>\n",
       "      <td>0</td>\n",
       "      <td>0</td>\n",
       "      <td>0</td>\n",
       "      <td>1</td>\n",
       "      <td>0</td>\n",
       "      <td>1</td>\n",
       "      <td>0</td>\n",
       "      <td>0</td>\n",
       "      <td>0</td>\n",
       "      <td>0</td>\n",
       "      <td>0</td>\n",
       "      <td>0</td>\n",
       "    </tr>\n",
       "    <tr>\n",
       "      <th>1</th>\n",
       "      <td>0</td>\n",
       "      <td>0</td>\n",
       "      <td>0</td>\n",
       "      <td>0</td>\n",
       "      <td>1</td>\n",
       "      <td>1</td>\n",
       "      <td>0</td>\n",
       "      <td>0</td>\n",
       "      <td>0</td>\n",
       "      <td>0</td>\n",
       "      <td>0</td>\n",
       "      <td>1</td>\n",
       "      <td>0</td>\n",
       "      <td>0</td>\n",
       "      <td>0</td>\n",
       "      <td>0</td>\n",
       "      <td>0</td>\n",
       "      <td>0</td>\n",
       "      <td>0</td>\n",
       "      <td>0</td>\n",
       "    </tr>\n",
       "  </tbody>\n",
       "</table>\n",
       "</div>"
      ],
      "text/plain": [
       "   Animation  Mystery  Action  Documentary  Fantasy  Adventure  Crime  \\\n",
       "0          1        0       0            0        1          1      0   \n",
       "1          0        0       0            0        1          1      0   \n",
       "\n",
       "   Western  Drama  (no genres listed)  Romance  Children  Sci-Fi  Comedy  \\\n",
       "0        0      0                   0        0         1       0       1   \n",
       "1        0      0                   0        0         1       0       0   \n",
       "\n",
       "   Musical  War  Horror  Film-Noir  Thriller  IMAX  \n",
       "0        0    0       0          0         0     0  \n",
       "1        0    0       0          0         0     0  "
      ]
     },
     "execution_count": 7,
     "metadata": {},
     "output_type": "execute_result"
    }
   ],
   "source": [
    "# para que vean cómo se ve\n",
    "data[:2]"
   ]
  },
  {
   "cell_type": "markdown",
   "metadata": {},
   "source": [
    "# KMeans"
   ]
  },
  {
   "cell_type": "code",
   "execution_count": 8,
   "metadata": {},
   "outputs": [
    {
     "data": {
      "text/plain": [
       "(9742, 20)"
      ]
     },
     "execution_count": 8,
     "metadata": {},
     "output_type": "execute_result"
    }
   ],
   "source": [
    "# En este contexto de aprendizaje no supervisado, no hay target values: es decir, nuay y\n",
    "X = tagged_data\n",
    "np.shape(X)"
   ]
  },
  {
   "cell_type": "code",
   "execution_count": 9,
   "metadata": {},
   "outputs": [],
   "source": [
    "# Utilizaré KMeans para armar un sistemita de recomendaciones.\n",
    "from sklearn.cluster import KMeans"
   ]
  },
  {
   "cell_type": "code",
   "execution_count": 10,
   "metadata": {},
   "outputs": [],
   "source": [
    "# haré sólo 10 clusters.\n",
    "n_clusters = 10\n",
    "kmeans = KMeans(n_clusters=n_clusters, random_state=82).fit(X)"
   ]
  },
  {
   "cell_type": "code",
   "execution_count": 11,
   "metadata": {},
   "outputs": [],
   "source": [
    "pelis, _ = movies.shape"
   ]
  },
  {
   "cell_type": "markdown",
   "metadata": {},
   "source": [
    "### Sistema de recomendación"
   ]
  },
  {
   "cell_type": "code",
   "execution_count": 15,
   "metadata": {},
   "outputs": [],
   "source": [
    "#Selecciono una pelicula equis\n",
    "peli = np.random.randint(pelis)\n",
    "peli = 0 # Uncomment this line to set peli = 0, selecting Toy Story\n",
    "#Obtengo sus generos\n",
    "peli_name = movies.at[peli,'title']\n",
    "peli_genres = movies.at[peli, 'genres']\n",
    "#Separo los tags\n",
    "peli_genres_list = peli_genres.split('|')\n",
    "# peli_genres_list = ['Action','Western','Fantasy'] # Uncomment these linen for La película rara de Flor\n",
    "# peli_name = 'La pelicula rara de Flor'  # Uncomment these linen for La película rara de Flor\n",
    "peli_tags_list = [1 if t in peli_genres_list else 0 for t in tags]\n",
    "peli_cluster = kmeans.predict([peli_tags_list])"
   ]
  },
  {
   "cell_type": "code",
   "execution_count": 16,
   "metadata": {},
   "outputs": [
    {
     "data": {
      "text/plain": [
       "('Toy Story (1995)', 2)"
      ]
     },
     "execution_count": 16,
     "metadata": {},
     "output_type": "execute_result"
    }
   ],
   "source": [
    "peli_name, peli_cluster[0]"
   ]
  },
  {
   "cell_type": "code",
   "execution_count": 19,
   "metadata": {},
   "outputs": [
    {
     "name": "stdout",
     "output_type": "stream",
     "text": [
      "If you like the movie \"Toy Story (1995)\", you may also like:\n",
      "\t- Town Called Panic, A (Panique au village) (2009)\n",
      "\t- My Science Project (1985)\n",
      "\t- Mystery of the Third Planet, The (Tayna tretey planety) (1981)\n",
      "\t- History of Future Folk, The (2012)\n",
      "\t- Madagascar (2005)\n",
      "\t- Pinocchio (1940)\n",
      "\t- Valiant (2005)\n",
      "\t- Paul (2011)\n",
      "\t- Planes: Fire & Rescue (2014)\n",
      "\t- Three Musketeers, The (2011)\n"
     ]
    }
   ],
   "source": [
    "# REPORTING:\n",
    "recomendeishon = [i for i,cl in enumerate(kmeans.labels_) if (cl == peli_cluster and i != peli)]\n",
    "count = len(recomendeishon)\n",
    "random.shuffle(recomendeishon)\n",
    "print (f'If you like the movie \"{peli_name}\", you may also like:')\n",
    "p_recomendeishon = movies.loc[recomendeishon,'title']   # Acá, movies.at no funciona porque usamos lista de indices\n",
    "[print(f'\\t- {TITLE}') for TITLE in p_recomendeishon[:10]];"
   ]
  },
  {
   "cell_type": "code",
   "execution_count": null,
   "metadata": {},
   "outputs": [],
   "source": []
  },
  {
   "cell_type": "code",
   "execution_count": null,
   "metadata": {},
   "outputs": [],
   "source": []
  },
  {
   "cell_type": "code",
   "execution_count": null,
   "metadata": {},
   "outputs": [],
   "source": []
  },
  {
   "cell_type": "code",
   "execution_count": null,
   "metadata": {},
   "outputs": [],
   "source": []
  },
  {
   "cell_type": "code",
   "execution_count": null,
   "metadata": {},
   "outputs": [],
   "source": []
  },
  {
   "cell_type": "code",
   "execution_count": null,
   "metadata": {},
   "outputs": [],
   "source": [
    "# método ilustrativo. muestra paso a paso qué se haría para un sistema de recomendaciones\n",
    "# no es óptimo porque estamos recalculando agrupamientos que ya teníamos listos en labels_.\n",
    "if False:\n",
    "    # REPORTING:\n",
    "    print (f'If you like the movie \"{peli_name}\", you may also like:')\n",
    "    recomendeishon = []\n",
    "    count = 0\n",
    "    for indx in movies.index:\n",
    "        p_genres = movies.at[indx, 'genres']\n",
    "        p_genres_list = p_genres.split('|')\n",
    "        p_tags_list = [1 if t in p_genres_list else 0 for t in tags]\n",
    "        p_cluster = kmeans.predict([p_tags_list])\n",
    "        if p_cluster == peli_cluster and peli != indx:\n",
    "            count += 1\n",
    "            recomendeishon.append(movies.at[indx, 'title'])\n",
    "            #if count >= 10:\n",
    "            #    break\n",
    "    # En lugar de este random, se mezclaría con raitings \n",
    "    random.shuffle(recomendeishon)\n",
    "    [print(f'\\t- {TITLE}') for TITLE in recomendeishon[:10]];"
   ]
  },
  {
   "cell_type": "code",
   "execution_count": null,
   "metadata": {},
   "outputs": [],
   "source": []
  },
  {
   "cell_type": "code",
   "execution_count": null,
   "metadata": {},
   "outputs": [],
   "source": []
  }
 ],
 "metadata": {
  "kernelspec": {
   "display_name": "Python 3",
   "language": "python",
   "name": "python3"
  },
  "language_info": {
   "codemirror_mode": {
    "name": "ipython",
    "version": 3
   },
   "file_extension": ".py",
   "mimetype": "text/x-python",
   "name": "python",
   "nbconvert_exporter": "python",
   "pygments_lexer": "ipython3",
   "version": "3.7.4"
  }
 },
 "nbformat": 4,
 "nbformat_minor": 2
}
