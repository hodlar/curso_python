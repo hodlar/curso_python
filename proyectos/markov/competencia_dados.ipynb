{
 "cells": [
  {
   "cell_type": "code",
   "execution_count": 11,
   "metadata": {},
   "outputs": [],
   "source": [
    "import numpy as np\n",
    "import pandas as pd\n",
    "import matplotlib.pyplot as plt\n",
    "\n",
    "from dice_players import mlplayer as rlplayer, dplayer, Dado"
   ]
  },
  {
   "cell_type": "markdown",
   "metadata": {},
   "source": [
    "# Objeto Dado"
   ]
  },
  {
   "cell_type": "code",
   "execution_count": 12,
   "metadata": {},
   "outputs": [],
   "source": [
    "dado_size = 6\n",
    "turnos = 3\n",
    "D = Dado(dado_size)"
   ]
  },
  {
   "cell_type": "code",
   "execution_count": null,
   "metadata": {},
   "outputs": [],
   "source": []
  },
  {
   "cell_type": "markdown",
   "metadata": {},
   "source": [
    "# Player with RL"
   ]
  },
  {
   "cell_type": "code",
   "execution_count": 13,
   "metadata": {},
   "outputs": [
    {
     "name": "stdout",
     "output_type": "stream",
     "text": [
      "All games have ended\n",
      "All games have ended\n",
      "Average reward: 4.668330000000072\n"
     ]
    }
   ],
   "source": [
    "P = rlplayer(D, [0, 1], turnos)\n",
    "P.play_n(100000)\n",
    "M = P.get_m()\n",
    "\n",
    "turnos_id = [f't{i+1}.' for i in range(3)]\n",
    "index_dice = [str(i+1) for i in range(6)]\n",
    "index = [i+j for i in turnos_id for j in index_dice]\n",
    "df = pd.DataFrame(M, index=index, columns=['Take', 'Play'])\n",
    "\n",
    "# Create a new player, already trained\n",
    "J = rlplayer(D, [0, 1], turnos)\n",
    "J.clone(P)\n",
    "# Stop exploration\n",
    "J.consolidate()\n",
    "# Play again\n",
    "n = 100000\n",
    "J.play_n(n)\n",
    "total_reward = J.TotalReward\n",
    "print (f'Average reward: {J.avg_reward}')"
   ]
  },
  {
   "cell_type": "code",
   "execution_count": 14,
   "metadata": {},
   "outputs": [
    {
     "data": {
      "text/html": [
       "<div>\n",
       "<style scoped>\n",
       "    .dataframe tbody tr th:only-of-type {\n",
       "        vertical-align: middle;\n",
       "    }\n",
       "\n",
       "    .dataframe tbody tr th {\n",
       "        vertical-align: top;\n",
       "    }\n",
       "\n",
       "    .dataframe thead th {\n",
       "        text-align: right;\n",
       "    }\n",
       "</style>\n",
       "<table border=\"1\" class=\"dataframe\">\n",
       "  <thead>\n",
       "    <tr style=\"text-align: right;\">\n",
       "      <th></th>\n",
       "      <th>Take</th>\n",
       "      <th>Play</th>\n",
       "    </tr>\n",
       "  </thead>\n",
       "  <tbody>\n",
       "    <tr>\n",
       "      <th>t1.1</th>\n",
       "      <td>1.0</td>\n",
       "      <td>4.197418</td>\n",
       "    </tr>\n",
       "    <tr>\n",
       "      <th>t1.2</th>\n",
       "      <td>2.0</td>\n",
       "      <td>4.201853</td>\n",
       "    </tr>\n",
       "    <tr>\n",
       "      <th>t1.3</th>\n",
       "      <td>3.0</td>\n",
       "      <td>4.210773</td>\n",
       "    </tr>\n",
       "    <tr>\n",
       "      <th>t1.4</th>\n",
       "      <td>4.0</td>\n",
       "      <td>4.214690</td>\n",
       "    </tr>\n",
       "    <tr>\n",
       "      <th>t1.5</th>\n",
       "      <td>5.0</td>\n",
       "      <td>4.078283</td>\n",
       "    </tr>\n",
       "    <tr>\n",
       "      <th>t1.6</th>\n",
       "      <td>6.0</td>\n",
       "      <td>4.212048</td>\n",
       "    </tr>\n",
       "    <tr>\n",
       "      <th>t2.1</th>\n",
       "      <td>1.0</td>\n",
       "      <td>3.500772</td>\n",
       "    </tr>\n",
       "    <tr>\n",
       "      <th>t2.2</th>\n",
       "      <td>2.0</td>\n",
       "      <td>3.512638</td>\n",
       "    </tr>\n",
       "    <tr>\n",
       "      <th>t2.3</th>\n",
       "      <td>3.0</td>\n",
       "      <td>3.480325</td>\n",
       "    </tr>\n",
       "    <tr>\n",
       "      <th>t2.4</th>\n",
       "      <td>4.0</td>\n",
       "      <td>3.418251</td>\n",
       "    </tr>\n",
       "    <tr>\n",
       "      <th>t2.5</th>\n",
       "      <td>5.0</td>\n",
       "      <td>3.402256</td>\n",
       "    </tr>\n",
       "    <tr>\n",
       "      <th>t2.6</th>\n",
       "      <td>6.0</td>\n",
       "      <td>3.586957</td>\n",
       "    </tr>\n",
       "    <tr>\n",
       "      <th>t3.1</th>\n",
       "      <td>1.0</td>\n",
       "      <td>0.000000</td>\n",
       "    </tr>\n",
       "    <tr>\n",
       "      <th>t3.2</th>\n",
       "      <td>2.0</td>\n",
       "      <td>0.000000</td>\n",
       "    </tr>\n",
       "    <tr>\n",
       "      <th>t3.3</th>\n",
       "      <td>3.0</td>\n",
       "      <td>0.000000</td>\n",
       "    </tr>\n",
       "    <tr>\n",
       "      <th>t3.4</th>\n",
       "      <td>4.0</td>\n",
       "      <td>0.000000</td>\n",
       "    </tr>\n",
       "    <tr>\n",
       "      <th>t3.5</th>\n",
       "      <td>5.0</td>\n",
       "      <td>0.000000</td>\n",
       "    </tr>\n",
       "    <tr>\n",
       "      <th>t3.6</th>\n",
       "      <td>6.0</td>\n",
       "      <td>0.000000</td>\n",
       "    </tr>\n",
       "  </tbody>\n",
       "</table>\n",
       "</div>"
      ],
      "text/plain": [
       "      Take      Play\n",
       "t1.1   1.0  4.197418\n",
       "t1.2   2.0  4.201853\n",
       "t1.3   3.0  4.210773\n",
       "t1.4   4.0  4.214690\n",
       "t1.5   5.0  4.078283\n",
       "t1.6   6.0  4.212048\n",
       "t2.1   1.0  3.500772\n",
       "t2.2   2.0  3.512638\n",
       "t2.3   3.0  3.480325\n",
       "t2.4   4.0  3.418251\n",
       "t2.5   5.0  3.402256\n",
       "t2.6   6.0  3.586957\n",
       "t3.1   1.0  0.000000\n",
       "t3.2   2.0  0.000000\n",
       "t3.3   3.0  0.000000\n",
       "t3.4   4.0  0.000000\n",
       "t3.5   5.0  0.000000\n",
       "t3.6   6.0  0.000000"
      ]
     },
     "execution_count": 14,
     "metadata": {},
     "output_type": "execute_result"
    }
   ],
   "source": [
    "df"
   ]
  },
  {
   "cell_type": "code",
   "execution_count": 15,
   "metadata": {},
   "outputs": [
    {
     "data": {
      "text/plain": [
       "4.59907"
      ]
     },
     "execution_count": 15,
     "metadata": {},
     "output_type": "execute_result"
    }
   ],
   "source": [
    "Ph = P.full_history\n",
    "sum(Ph)/len(Ph)"
   ]
  },
  {
   "cell_type": "code",
   "execution_count": 16,
   "metadata": {},
   "outputs": [],
   "source": [
    "w = 20\n",
    "ph_short = [sum(Ph[i:i+w])/w for i in range(int(len(Ph)/w))]"
   ]
  },
  {
   "cell_type": "code",
   "execution_count": 17,
   "metadata": {},
   "outputs": [
    {
     "data": {
      "image/png": "[encoded data removed]",
      "text/plain": [
       "<Figure size 432x288 with 1 Axes>"
      ]
     },
     "metadata": {
      "needs_background": "light"
     },
     "output_type": "display_data"
    }
   ],
   "source": [
    "%matplotlib inline\n",
    "plt.plot(ph_short)\n",
    "plt.ylim(0, 6)\n",
    "plt.ylabel('Reward')\n",
    "plt.show()"
   ]
  },
  {
   "cell_type": "code",
   "execution_count": null,
   "metadata": {},
   "outputs": [],
   "source": []
  },
  {
   "cell_type": "code",
   "execution_count": null,
   "metadata": {},
   "outputs": [],
   "source": []
  },
  {
   "cell_type": "code",
   "execution_count": 18,
   "metadata": {},
   "outputs": [
    {
     "name": "stdout",
     "output_type": "stream",
     "text": [
      "All games have ended\n",
      "All games have ended\n",
      "Average reward: 4.657919999999958\n"
     ]
    }
   ],
   "source": [
    "P = rlplayer(D, [0, 1], turnos)\n",
    "P.play_n(50000)\n",
    "\n",
    "# Create a new player, already trained\n",
    "J = rlplayer(D, [0, 1], turnos)\n",
    "J.clone(P)\n",
    "# Stop learning\n",
    "J.consolidate()\n",
    "# Play again\n",
    "n = 50000\n",
    "J.play_n(n)\n",
    "print (f'Average reward: {J.avg_reward}')"
   ]
  },
  {
   "cell_type": "code",
   "execution_count": 19,
   "metadata": {},
   "outputs": [],
   "source": [
    "M = J.m\n",
    "turnos_id = [f't{i+1}.' for i in range(3)]\n",
    "index_dice = [str(i+1) for i in range(6)]\n",
    "index = [i+j for i in turnos_id for j in index_dice]\n",
    "J_expected_rewards= pd.DataFrame(M, index=index, columns=['Take', 'Play'])"
   ]
  },
  {
   "cell_type": "code",
   "execution_count": null,
   "metadata": {},
   "outputs": [],
   "source": []
  },
  {
   "cell_type": "code",
   "execution_count": null,
   "metadata": {},
   "outputs": [],
   "source": []
  },
  {
   "cell_type": "code",
   "execution_count": null,
   "metadata": {},
   "outputs": [],
   "source": []
  },
  {
   "cell_type": "code",
   "execution_count": null,
   "metadata": {},
   "outputs": [],
   "source": []
  },
  {
   "cell_type": "code",
   "execution_count": null,
   "metadata": {},
   "outputs": [],
   "source": []
  },
  {
   "cell_type": "markdown",
   "metadata": {},
   "source": [
    "# Deterministic player"
   ]
  },
  {
   "cell_type": "code",
   "execution_count": 20,
   "metadata": {},
   "outputs": [
    {
     "name": "stdout",
     "output_type": "stream",
     "text": [
      "All games have ended\n",
      "Average reward: 4.656080000000006\n"
     ]
    }
   ],
   "source": [
    "dP = dplayer(D, [0, 1], 3)\n",
    "dP.play_n(100000)\n",
    "total_reward = dP.TotalReward\n",
    "print (f'Average reward: {dP.avg_reward}')"
   ]
  },
  {
   "cell_type": "code",
   "execution_count": 21,
   "metadata": {},
   "outputs": [
    {
     "data": {
      "image/png": "[encoded data removed]",
      "text/plain": [
       "<Figure size 432x288 with 1 Axes>"
      ]
     },
     "metadata": {
      "needs_background": "light"
     },
     "output_type": "display_data"
    }
   ],
   "source": [
    "w = 20\n",
    "dPh = dP.full_history\n",
    "dph_short = [sum(dPh[i:i+w])/w for i in range(int(len(dPh)/w))]\n",
    "\n",
    "%matplotlib inline\n",
    "plt.plot(dph_short)\n",
    "plt.ylabel('Reward')\n",
    "plt.ylim(0, 6)\n",
    "plt.show()"
   ]
  },
  {
   "cell_type": "code",
   "execution_count": null,
   "metadata": {},
   "outputs": [],
   "source": []
  },
  {
   "cell_type": "code",
   "execution_count": null,
   "metadata": {},
   "outputs": [],
   "source": []
  }
 ],
 "metadata": {
  "kernelspec": {
   "display_name": "Python 3",
   "language": "python",
   "name": "python3"
  },
  "language_info": {
   "codemirror_mode": {
    "name": "ipython",
    "version": 3
   },
   "file_extension": ".py",
   "mimetype": "text/x-python",
   "name": "python",
   "nbconvert_exporter": "python",
   "pygments_lexer": "ipython3",
   "version": "3.7.4"
  }
 },
 "nbformat": 4,
 "nbformat_minor": 2
}
