{
 "cells": [
  {
   "cell_type": "code",
   "execution_count": null,
   "metadata": {},
   "outputs": [],
   "source": [
    "import glob\n",
    "import matplotlib.pyplot as plt\n",
    "import numpy as np\n",
    "\n",
    "from astropy import units\n",
    "from astropy.io import fits\n",
    "from astropy.modeling.models import Gaussian2D\n",
    "from astropy.nddata import Cutout2D\n",
    "from astropy.utils.data import get_pkg_data_filename\n",
    "from astropy.visualization import astropy_mpl_style\n",
    "\n",
    "\n",
    "plt.style.use(astropy_mpl_style)"
   ]
  },
  {
   "cell_type": "code",
   "execution_count": null,
   "metadata": {},
   "outputs": [],
   "source": [
    "y, x = np.mgrid[0:500, 0:500]\n",
    "data = Gaussian2D(1, 250, 250, 10, 5, theta=0.5)(x,y)"
   ]
  },
  {
   "cell_type": "code",
   "execution_count": null,
   "metadata": {},
   "outputs": [],
   "source": [
    "plt.imshow(data, origin='lower', cmap='gray')\n",
    "plt.show()"
   ]
  },
  {
   "cell_type": "code",
   "execution_count": null,
   "metadata": {},
   "outputs": [],
   "source": [
    "crop_center = (250, 250)\n",
    "crop_size = units.Quantity((100, 100), units.pixel)\n",
    "crop = Cutout2D(data, crop_center, crop_size)\n",
    "plt.imshow(crop.data, origin='lower', cmap='gray')\n",
    "plt.show()"
   ]
  },
  {
   "cell_type": "code",
   "execution_count": null,
   "metadata": {},
   "outputs": [],
   "source": [
    "image_file = \"img/hst_06119_45_wfpc2_f555w_pc_drz.fits\"\n",
    "fits.info(image_file)"
   ]
  },
  {
   "cell_type": "code",
   "execution_count": null,
   "metadata": {},
   "outputs": [],
   "source": [
    "image_data = fits.getdata(image_file, ext=0)\n",
    "\n",
    "print(image_data.shape)"
   ]
  },
  {
   "cell_type": "code",
   "execution_count": null,
   "metadata": {},
   "outputs": [],
   "source": [
    "plt.figure()\n",
    "plt.imshow(image_data, cmap='gray')\n",
    "plt.colorbar()"
   ]
  },
  {
   "cell_type": "code",
   "execution_count": null,
   "metadata": {},
   "outputs": [],
   "source": [
    "filenames = glob.glob('img/*.fits')\n",
    "objetos = {}\n",
    "for file in filenames:\n",
    "    image_data = fits.getdata(file, ext=0)\n",
    "    pixeles = str(image_data.shape)\n",
    "    if not pixeles in objetos:\n",
    "        objetos[pixeles] = image_data\n",
    "    else:\n",
    "        objetos[pixeles] += image_data\n",
    "    \n",
    "for key, objeto in objetos.items():\n",
    "    \n",
    "    plt.figure()\n",
    "    plt.imshow(objeto, cmap='gray')\n",
    "    plt.imshow(np.where(objeto > 100, 200, 100), cmap='gray')\n",
    "    plt.colorbar()"
   ]
  }
 ],
 "metadata": {
  "kernelspec": {
   "display_name": "Python 3",
   "language": "python",
   "name": "python3"
  },
  "language_info": {
   "codemirror_mode": {
    "name": "ipython",
    "version": 3
   },
   "file_extension": ".py",
   "mimetype": "text/x-python",
   "name": "python",
   "nbconvert_exporter": "python",
   "pygments_lexer": "ipython3",
   "version": "3.7.1"
  }
 },
 "nbformat": 4,
 "nbformat_minor": 2
}
