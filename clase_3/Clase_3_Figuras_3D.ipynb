{
 "cells": [
  {
   "cell_type": "code",
   "execution_count": null,
   "metadata": {},
   "outputs": [],
   "source": [
    "import matplotlib as mpl\n",
    "import matplotlib.pyplot as plt\n",
    "from mpl_toolkits.mplot3d import Axes3D\n",
    "import numpy as np\n",
    "import pandas as pd"
   ]
  },
  {
   "cell_type": "code",
   "execution_count": null,
   "metadata": {},
   "outputs": [],
   "source": [
    "%matplotlib inline\n",
    "# Set up figure size and DPI for screen demo\n",
    "plt.rcParams['figure.figsize'] = (4,3)\n",
    "plt.rcParams['figure.dpi'] = 150"
   ]
  },
  {
   "cell_type": "code",
   "execution_count": null,
   "metadata": {},
   "outputs": [],
   "source": [
    "# Creamos puntos aleatorios en 3 ejes\n",
    "x = np.random.normal(size=500)\n",
    "y = np.random.normal(size=500)\n",
    "z = np.random.normal(size=500)\n",
    "# Se crea una figura para hacer plots\n",
    "fig = plt.figure()\n",
    "# Se agrega un subplot con proyección en 3 dimensiones\n",
    "ax = fig.add_subplot(1,1,1, projection='3d')\n",
    "# Se traza el plot de tipo scatter (dispersión)\n",
    "ax.scatter(x, y , z, c=np.linalg.norm([x,y,z], axis=0))"
   ]
  },
  {
   "cell_type": "code",
   "execution_count": null,
   "metadata": {},
   "outputs": [],
   "source": [
    "# Creamos una linea de puntos de 0 a n * pi con m cantidad de pasos\n",
    "t = np.linspace(0,10*np.pi, 500)\n",
    "# Calculamos el eje x como el coseno de cada punto en la linea\n",
    "x = np.cos(t)\n",
    "# Calculamos el eje y como el coseno de cada punto en la linea\n",
    "y = np.sin(t)\n",
    "# Como eje z se usa la lina de puntos\n",
    "z = t\n",
    "\n",
    "# Se crea una figura para hacer un plot\n",
    "fig = plt.figure()\n",
    "# Se agrega un subplot con proyección en 3d\n",
    "ax = fig.add_subplot(1,1,1, projection='3d')\n",
    "# Se agregan los datos al subplot y se muestra la figura\n",
    "ax.plot(x,y,z)\n",
    "plt.show()"
   ]
  },
  {
   "cell_type": "code",
   "execution_count": null,
   "metadata": {},
   "outputs": [],
   "source": [
    "# Se crea una linea de puntos desde pi negativo hasta pi con 50 pasos\n",
    "x = np.linspace(-np.pi, np.pi, 50)\n",
    "# Se crea una matriz de coordenadas con la lina de x, regresa los valores para X y Y\n",
    "X, Y = np.meshgrid(x, x)\n",
    "# Calculamos el seno de X * Y para obtener el valor del eje Z\n",
    "Z = np.sin(X*Y)\n",
    "# Creamos la figura y hacemos el plot en 3d\n",
    "fig = plt.figure()\n",
    "ax = fig.add_subplot(1,1,1, projection='3d')\n",
    "ax.plot_surface(X,Y,Z)\n",
    "plt.show()"
   ]
  }
 ],
 "metadata": {
  "kernelspec": {
   "display_name": "Python 3",
   "language": "python",
   "name": "python3"
  },
  "language_info": {
   "codemirror_mode": {
    "name": "ipython",
    "version": 3
   },
   "file_extension": ".py",
   "mimetype": "text/x-python",
   "name": "python",
   "nbconvert_exporter": "python",
   "pygments_lexer": "ipython3",
   "version": "3.7.1"
  }
 },
 "nbformat": 4,
 "nbformat_minor": 2
}
