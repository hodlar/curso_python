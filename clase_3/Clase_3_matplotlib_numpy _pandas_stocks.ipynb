{
 "cells": [
  {
   "cell_type": "code",
   "execution_count": null,
   "metadata": {},
   "outputs": [],
   "source": [
    "import pandas as pd\n",
    "\n",
    "# Leemos archivos CSV (valores separados por coma), creamos un índice con la columna Date\n",
    "# y la convertimos a un dato timo datetime\n",
    "apple = pd.read_csv('apple.csv', index_col='Date', parse_dates=['Date'])\n",
    "ms = pd.read_csv('ms.csv', index_col='Date', parse_dates=['Date'])"
   ]
  },
  {
   "cell_type": "code",
   "execution_count": null,
   "metadata": {},
   "outputs": [],
   "source": [
    "# Funcion de Jupyter Notebooks para visualizar plots\n",
    "%matplotlib inline\n",
    "# Muestra información de los primeros datos\n",
    "ms.head()"
   ]
  },
  {
   "cell_type": "code",
   "execution_count": null,
   "metadata": {},
   "outputs": [],
   "source": [
    "# Mostramos un plot del valor de cierre del stock de Microsoft\n",
    "ms['Adj. Close'].plot()"
   ]
  },
  {
   "cell_type": "code",
   "execution_count": null,
   "metadata": {},
   "outputs": [],
   "source": [
    "# Mostramos los índices del marco de datos\n",
    "ms.index"
   ]
  },
  {
   "cell_type": "code",
   "execution_count": null,
   "metadata": {},
   "outputs": [],
   "source": [
    "# Al usar fechas como índice, podemos filtrar por año\n",
    "# Mostramos un plot del valor de cierre del 2018\n",
    "ms['2018']['Adj. Close'].plot()"
   ]
  },
  {
   "cell_type": "code",
   "execution_count": null,
   "metadata": {},
   "outputs": [],
   "source": [
    "# Del mismo modo, podemos filtrar por año y mes\n",
    "ms['2018-03']['Adj. Close'].plot()"
   ]
  },
  {
   "cell_type": "code",
   "execution_count": null,
   "metadata": {},
   "outputs": [],
   "source": [
    "# También es posible filtrar por rangos de fechas\n",
    "ms.loc['2018-01-01':'2018-03-31']['Adj. Close'].plot()"
   ]
  },
  {
   "cell_type": "code",
   "execution_count": null,
   "metadata": {},
   "outputs": [],
   "source": [
    "# Creamos objetos de los datos de cierre de ambos stocks\n",
    "ms_price = ms[['Adj. Close']]\n",
    "apple_price = apple[['Adj. Close']]\n",
    "# Renombramos las columnas\n",
    "ms_price.rename(columns={'Adj. Close': 'MSFT'}, inplace=True)\n",
    "apple_price.rename(columns={'Adj. Close': 'AAPL'}, inplace=True)\n",
    "# Y unimos ambos stocks\n",
    "both_stocks = ms_price.join(apple_price, how='inner')"
   ]
  },
  {
   "cell_type": "code",
   "execution_count": null,
   "metadata": {},
   "outputs": [],
   "source": [
    "both_stocks.head()"
   ]
  },
  {
   "cell_type": "code",
   "execution_count": null,
   "metadata": {},
   "outputs": [],
   "source": [
    "# Hacemos un plot que nos mostrará ambos stocks\n",
    "both_stocks.plot()"
   ]
  },
  {
   "cell_type": "code",
   "execution_count": null,
   "metadata": {},
   "outputs": [],
   "source": [
    "# Podemos filtrar por año del mismo modo que lo hicimos anteriormente\n",
    "both_stocks['2018'].plot()"
   ]
  },
  {
   "cell_type": "code",
   "execution_count": null,
   "metadata": {},
   "outputs": [],
   "source": [
    "# Podemos calcular la media movil con la media\n",
    "both_stocks['2017'].rolling(min_periods = 10, window=60, center=False).mean().plot()"
   ]
  },
  {
   "cell_type": "code",
   "execution_count": null,
   "metadata": {},
   "outputs": [],
   "source": [
    "# Podemos calcular la media movil y hacemos un plot con su desviación estandar\n",
    "both_stocks['2017'].rolling(min_periods = 10, window=60, center=True).std().plot()"
   ]
  }
 ],
 "metadata": {
  "kernelspec": {
   "display_name": "Python 3",
   "language": "python",
   "name": "python3"
  },
  "language_info": {
   "codemirror_mode": {
    "name": "ipython",
    "version": 3
   },
   "file_extension": ".py",
   "mimetype": "text/x-python",
   "name": "python",
   "nbconvert_exporter": "python",
   "pygments_lexer": "ipython3",
   "version": "3.7.1"
  }
 },
 "nbformat": 4,
 "nbformat_minor": 2
}
