{
 "cells": [
  {
   "cell_type": "code",
   "execution_count": null,
   "metadata": {},
   "outputs": [],
   "source": [
    "import pandas as pd"
   ]
  },
  {
   "cell_type": "code",
   "execution_count": null,
   "metadata": {},
   "outputs": [],
   "source": [
    "data = pd.read_csv('arduino_logs.csv', names=['id', 'date', 'modified',\n",
    "                                               'calentador', 'ventiladores',\n",
    "                                               'temperatura', 'humedad',\n",
    "                                               'humedad_externa', 'temperatura_externa',\n",
    "                                               'luz', 'temperatura_secundaria',\n",
    "                                               'humedad_secundaria'\n",
    "                                              ], index_col=1)"
   ]
  },
  {
   "cell_type": "code",
   "execution_count": null,
   "metadata": {},
   "outputs": [],
   "source": [
    "%matplotlib inline\n",
    "temperaturas = ['temperatura', 'temperatura_externa', 'temperatura_secundaria']\n",
    "data[temperaturas].plot()"
   ]
  },
  {
   "cell_type": "code",
   "execution_count": null,
   "metadata": {},
   "outputs": [],
   "source": [
    "humedad = ['humedad', 'humedad_externa', 'humedad_secundaria']\n",
    "data[humedad].plot()"
   ]
  },
  {
   "cell_type": "code",
   "execution_count": null,
   "metadata": {},
   "outputs": [],
   "source": [
    "data[humedad+temperaturas].plot()"
   ]
  },
  {
   "cell_type": "code",
   "execution_count": null,
   "metadata": {},
   "outputs": [],
   "source": [
    "data.index = pd.to_datetime(data.index)\n",
    "new_data = data.groupby([data.index.year, data.index.month, data.index.day])\n",
    "\n",
    "new_data[humedad+temperaturas].std().plot()\n",
    "new_data[humedad+temperaturas].mean().plot()\n",
    "\n",
    "new_data[humedad+temperaturas].median().plot()\n"
   ]
  }
 ],
 "metadata": {
  "kernelspec": {
   "display_name": "Python 3",
   "language": "python",
   "name": "python3"
  },
  "language_info": {
   "codemirror_mode": {
    "name": "ipython",
    "version": 3
   },
   "file_extension": ".py",
   "mimetype": "text/x-python",
   "name": "python",
   "nbconvert_exporter": "python",
   "pygments_lexer": "ipython3",
   "version": "3.7.3"
  }
 },
 "nbformat": 4,
 "nbformat_minor": 2
}
