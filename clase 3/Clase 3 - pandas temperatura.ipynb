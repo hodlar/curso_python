{
 "cells": [
  {
   "cell_type": "code",
   "execution_count": null,
   "metadata": {},
   "outputs": [],
   "source": [
    "import pandas as pd"
   ]
  },
  {
   "cell_type": "code",
   "execution_count": null,
   "metadata": {},
   "outputs": [],
   "source": [
    "data = pd.read_csv('arduino_logs.csv', names=['id', 'date', 'modified',\n",
    "                                               'calentador', 'ventiladores',\n",
    "                                               'temperatura', 'humedad',\n",
    "                                               'humedad_externa', 'temperatura_externa',\n",
    "                                               'luz', 'temperatura_secundaria',\n",
    "                                               'humedad_secundaria'\n",
    "                                              ], index_col=1)"
   ]
  },
  {
   "cell_type": "code",
   "execution_count": null,
   "metadata": {},
   "outputs": [],
   "source": [
    "%matplotlib inline\n",
    "data[['temperatura', 'temperatura_externa', 'temperatura_secundaria']].plot()"
   ]
  },
  {
   "cell_type": "code",
   "execution_count": null,
   "metadata": {},
   "outputs": [],
   "source": [
    "data[['humedad', 'humedad_externa', 'humedad_secundaria']].plot()"
   ]
  },
  {
   "cell_type": "code",
   "execution_count": null,
   "metadata": {},
   "outputs": [],
   "source": [
    "data[['humedad', 'humedad_externa', 'humedad_secundaria', 'temperatura', 'temperatura_externa', 'temperatura_secundaria']].plot()"
   ]
  },
  {
   "cell_type": "code",
   "execution_count": null,
   "metadata": {},
   "outputs": [],
   "source": [
    "# tiempo = pd.to_datetime(data.index)\n",
    "data.index = pd.to_datetime(data.index)\n",
    "new_data = data.groupby([data.index.year, data.index.month, data.index.day])\n",
    "# new_data.head()\n",
    "\n",
    "new_data[['humedad', 'humedad_externa', 'humedad_secundaria', 'temperatura', 'temperatura_externa', 'temperatura_secundaria']].std().plot()\n",
    "new_data[['humedad', 'humedad_externa', 'humedad_secundaria', 'temperatura', 'temperatura_externa', 'temperatura_secundaria']].mean().plot()\n",
    "#\n",
    "new_data[['humedad', 'humedad_externa', 'humedad_secundaria', 'temperatura', 'temperatura_externa', 'temperatura_secundaria']].median().plot()\n",
    "# new_data[['humedad', 'humedad_externa', 'humedad_secundaria', 'temperatura', 'temperatura_externa', 'temperatura_secundaria']].mode().plot()\n"
   ]
  },
  {
   "cell_type": "code",
   "execution_count": null,
   "metadata": {},
   "outputs": [],
   "source": []
  }
 ],
 "metadata": {
  "kernelspec": {
   "display_name": "Python 3",
   "language": "python",
   "name": "python3"
  },
  "language_info": {
   "codemirror_mode": {
    "name": "ipython",
    "version": 3
   },
   "file_extension": ".py",
   "mimetype": "text/x-python",
   "name": "python",
   "nbconvert_exporter": "python",
   "pygments_lexer": "ipython3",
   "version": "3.7.1"
  }
 },
 "nbformat": 4,
 "nbformat_minor": 2
}
