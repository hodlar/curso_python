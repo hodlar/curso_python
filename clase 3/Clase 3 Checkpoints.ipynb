{
 "cells": [
  {
   "cell_type": "code",
   "execution_count": null,
   "metadata": {},
   "outputs": [],
   "source": [
    "import numpy as np\n",
    "import matplotlib.pyplot as plt\n",
    "import random\n",
    "def darPaso(iteracion=0):\n",
    "    paso = (random.randint(-1,1), random.randint(-1,1))\n",
    "    if paso == (0,0):\n",
    "        return darPaso()\n",
    "    return paso\n",
    "def llenarMapa(cantidad):\n",
    "    pasos = [(0,0)]\n",
    "    pasoX = [0]\n",
    "    pasoY = [0]\n",
    "\n",
    "    for i in range(cantidad):\n",
    "        x, y = darPaso()\n",
    "        nX = pasoX[i]+x\n",
    "        nY = pasoY[i]+y\n",
    "        pasoX.append(nX)\n",
    "        pasoY.append(nY)\n",
    "        pasos.append((nX,nY))\n",
    "    plt.plot(pasoX, pasoY)\n",
    "%matplotlib inline"
   ]
  },
  {
   "cell_type": "code",
   "execution_count": null,
   "metadata": {},
   "outputs": [],
   "source": [
    "for _ in range(5):\n",
    "    llenarMapa(1000)\n"
   ]
  }
 ],
 "metadata": {
  "kernelspec": {
   "display_name": "Python 3",
   "language": "python",
   "name": "python3"
  },
  "language_info": {
   "codemirror_mode": {
    "name": "ipython",
    "version": 3
   },
   "file_extension": ".py",
   "mimetype": "text/x-python",
   "name": "python",
   "nbconvert_exporter": "python",
   "pygments_lexer": "ipython3",
   "version": "3.7.1"
  }
 },
 "nbformat": 4,
 "nbformat_minor": 2
}
